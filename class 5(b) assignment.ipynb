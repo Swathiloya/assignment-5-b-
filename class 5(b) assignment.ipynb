{
 "cells": [
  {
   "cell_type": "code",
   "execution_count": null,
   "id": "8fa63fdd",
   "metadata": {},
   "outputs": [],
   "source": [
    "#Write a program,  my age is more than 20 print teen_age other wise print younge_age?\n",
    "#\ta.my_age is 20, who am i? Expected output: you are teen_age\n",
    "#\tb.my_age is 30, who am i? Expected output: you are younge_age\n",
    "#\tc.my_age is 10, who am i? \n",
    "#\td.my_age is 40, who am i"
   ]
  },
  {
   "cell_type": "code",
   "execution_count": null,
   "id": "17c86624",
   "metadata": {},
   "outputs": [],
   "source": [
    "#\ta.my_age is 20, who am i?\n",
    "# Expected output: you are teen_age\n",
    "#Expected output: you are younge_age"
   ]
  },
  {
   "cell_type": "code",
   "execution_count": 1,
   "id": "d34714ac",
   "metadata": {},
   "outputs": [
    {
     "name": "stdout",
     "output_type": "stream",
     "text": [
      "you are teen_age\n"
     ]
    }
   ],
   "source": [
    "my_age=20\n",
    "if my_age==20:\n",
    "    print(\"you are teen_age\")\n",
    "else:\n",
    "    print(\"you are younge_age\")\n",
    "              "
   ]
  },
  {
   "cell_type": "code",
   "execution_count": null,
   "id": "478fda16",
   "metadata": {},
   "outputs": [],
   "source": [
    "#\tb.my_age is 30, who am i?\n",
    "#Expected output: you are teen_age\n",
    "#Expected output: you are younge_age"
   ]
  },
  {
   "cell_type": "code",
   "execution_count": 2,
   "id": "9452ddb6",
   "metadata": {},
   "outputs": [
    {
     "name": "stdout",
     "output_type": "stream",
     "text": [
      "you are younge_age\n"
     ]
    }
   ],
   "source": [
    "my_age=30\n",
    "if my_age==30:\n",
    "    print(\"you are younge_age\")\n",
    "else:\n",
    "    print(\"you are teen_age\")\n"
   ]
  },
  {
   "cell_type": "code",
   "execution_count": null,
   "id": "f159206f",
   "metadata": {},
   "outputs": [],
   "source": [
    "#\tc.my_age is 10, who am i? \n",
    "#Expected output: you are teen_age\n",
    "#Expected output: you are younge_age\n"
   ]
  },
  {
   "cell_type": "code",
   "execution_count": 3,
   "id": "55a26828",
   "metadata": {},
   "outputs": [
    {
     "name": "stdout",
     "output_type": "stream",
     "text": [
      "you are children\n"
     ]
    }
   ],
   "source": [
    "my_age=10\n",
    "if my_age==10:\n",
    "    print(\"you are children\")\n",
    "else:\n",
    "    print(\"you are younge_age\")\n",
    "    "
   ]
  },
  {
   "cell_type": "code",
   "execution_count": null,
   "id": "8bdbf409",
   "metadata": {},
   "outputs": [],
   "source": [
    "#\td.my_age is 40, who am i?\n",
    "#Expected output: you are teen_age\n",
    "#Expected output: you are younge_age"
   ]
  },
  {
   "cell_type": "code",
   "execution_count": 4,
   "id": "c2c6357f",
   "metadata": {},
   "outputs": [
    {
     "name": "stdout",
     "output_type": "stream",
     "text": [
      "you are middle_age\n"
     ]
    }
   ],
   "source": [
    "my_age=40\n",
    "if my_age==40:\n",
    "    print(\"you are middle_age\")\n",
    "else:\n",
    "    print(\"you are younge_age\")"
   ]
  },
  {
   "cell_type": "code",
   "execution_count": null,
   "id": "f767d8b4",
   "metadata": {},
   "outputs": [],
   "source": [
    "#Write a program today is Monday/Tuesday/Wendsday/Thursday/Friday print weekday otherwise print weekend?\n"
   ]
  },
  {
   "cell_type": "code",
   "execution_count": 5,
   "id": "120d3b25",
   "metadata": {},
   "outputs": [
    {
     "name": "stdout",
     "output_type": "stream",
     "text": [
      "this is weekday\n"
     ]
    }
   ],
   "source": [
    "today=\"thursday\"\n",
    "if today==\"monday\":\n",
    "    print(\" this is weeday\")\n",
    "elif today==\"tuesday\":\n",
    "    print(\" this is weeday\")\n",
    "elif today==\"wendsday\": \n",
    "    print(\" this is weekday\")\n",
    "elif today==\"thursday\":\n",
    "    print(\"this is weekday\")  \n",
    "elif today==\"friday\":    \n",
    "    print(\"this is weekday\")\n",
    "elif today==\"saturday\":    \n",
    "    print(\"this is weekend\")\n",
    "elif today==\"sunday\":    \n",
    "    print(\"this is weekend\")    \n",
    "else:\n",
    "    print(\"not a available\")\n"
   ]
  },
  {
   "cell_type": "code",
   "execution_count": null,
   "id": "09c58a60",
   "metadata": {},
   "outputs": [],
   "source": [
    "#Scenario1: Today my business income is 10/- if my income is more than 10/- then print \"i am profitable\" otherwise print \"i lost\"\n",
    "#ఈ రోజు నా ఆదాయం 10. నా ఆదాయం 10 కంటే ఎక్కువ ఉంటే ప్రింట్ నేను లాభదాయకంగా ఉన్నాను లేకపోతే నేను పోగొట్టుకున్నాను.\n"
   ]
  },
  {
   "cell_type": "code",
   "execution_count": 6,
   "id": "5d210415",
   "metadata": {},
   "outputs": [
    {
     "name": "stdout",
     "output_type": "stream",
     "text": [
      "i am lost\n"
     ]
    }
   ],
   "source": [
    "income=10\n",
    "if income>10:\n",
    "    print(\"i am profitble\")\n",
    "else:\n",
    "    print(\"i am lost\")"
   ]
  },
  {
   "cell_type": "code",
   "execution_count": null,
   "id": "6ad6a65a",
   "metadata": {},
   "outputs": [],
   "source": [
    "#Scenario2: your age is more than your sister age then print \"i am elder\" otherwise print \"i am younger\"\n",
    "#మీ వయస్సు మీ సోదరి వయస్సు కంటే ఎక్కువగా ఉంటే, నేను పెద్దవాడిని అని ముద్రించండి లేకపోతే నేను చిన్నవాడిని అని ముద్రించండి\n"
   ]
  },
  {
   "cell_type": "code",
   "execution_count": 7,
   "id": "9ebb72a7",
   "metadata": {},
   "outputs": [
    {
     "name": "stdout",
     "output_type": "stream",
     "text": [
      "i am elder\n"
     ]
    }
   ],
   "source": [
    "your_age=19\n",
    "sister_age=18\n",
    "if your_age>sister_age:\n",
    "    print(\"i am elder\")\n",
    "else:\n",
    "    print(\"i am younger\")"
   ]
  },
  {
   "cell_type": "code",
   "execution_count": null,
   "id": "438bc2f2",
   "metadata": {},
   "outputs": [],
   "source": [
    "#Scenario3:festival offer in my shop. \n",
    "#purchase amount more than 100 then print 30% discount.\n",
    " #purchase amount less than 50 then print 10% discount \n",
    "# otherwise print 20% discount.\t\n",
    " #నా దుకాణంలో పండుగ ఆఫర్. కొనుగోలు మొత్తం 100 కంటే ఎక్కువ, ఆపై ప్రింట్ 30% తగ్గింపు. 50 కంటే తక్కువ మొత్తాన్ని కొనుగోలు చేసి, ఆపై 10% తగ్గింపును ప్రింట్ చేయండి లేకపోతే 20% తగ్గింపును ప్రింట్ చేయండి"
   ]
  },
  {
   "cell_type": "code",
   "execution_count": 8,
   "id": "e90da7d0",
   "metadata": {},
   "outputs": [
    {
     "name": "stdout",
     "output_type": "stream",
     "text": [
      "30% discount\n"
     ]
    }
   ],
   "source": [
    "amount=140\n",
    "if amount>100:\n",
    "    print(\"30% discount\")\n",
    "elif amount<50:\n",
    "    print(\"10% discount\")\n",
    "else:\n",
    "    print(\"20% discount\")"
   ]
  },
  {
   "cell_type": "code",
   "execution_count": null,
   "id": "0cea904e",
   "metadata": {},
   "outputs": [],
   "source": [
    " \n",
    " #Scenario4:my movie theater prices. price is 140 print balcony. price is 50 print chair. price is 100 print bench\n",
    " \n",
    "#నా సినిమా థియేటర్ ధరలు. ధర 140 ప్రింట్ బాల్కనీ. ధర 50 ప్రింట్ కుర్చీ. ధర 100 ప్రింట్ బెంచ్"
   ]
  },
  {
   "cell_type": "code",
   "execution_count": 9,
   "id": "df6546f0",
   "metadata": {},
   "outputs": [
    {
     "name": "stdout",
     "output_type": "stream",
     "text": [
      "balcony\n"
     ]
    }
   ],
   "source": [
    "prices=140\n",
    "if prices==140:\n",
    "    print(\"balcony\")\n",
    "elif prices==50:\n",
    "    print(\" chair\")\n",
    "elif prices==100:\n",
    "    print(\" bench\")\n",
    "else:\n",
    "    print(\"not a available\")"
   ]
  },
  {
   "cell_type": "code",
   "execution_count": null,
   "id": "839be6cd",
   "metadata": {},
   "outputs": [],
   "source": [
    "#cenario5: my showroom vehicle types. \n",
    "#if vehicle type is two wheeler print bike and scooty. \n",
    "#if vehicle type is four wheeler print car, loory, van and zeep\n",
    "#నా షోరూమ్ వాహనాల రకాలు. వాహనం రకం టూ వీలర్ ప్రింట్ బైక్ మరియు స్కూటీ అయితే. వాహనం రకం ఫోర్ వీలర్ ప్రింట్ కారు అయితే, లూరీ, వ్యాన్ మరియు జీప్\n",
    " \n"
   ]
  },
  {
   "cell_type": "code",
   "execution_count": 10,
   "id": "8551c7d8",
   "metadata": {},
   "outputs": [
    {
     "name": "stdout",
     "output_type": "stream",
     "text": [
      "car, loory, van and zeep\n"
     ]
    }
   ],
   "source": [
    "type=\"four wheeler\"\n",
    "if type==\"two wheeler\":\n",
    "    print(\"bike and scooty\")\n",
    "elif type==\"four wheeler\":\n",
    "    print(\"car, loory, van and zeep\")\n",
    "else:\n",
    "    print(\"not a available\")"
   ]
  },
  {
   "cell_type": "code",
   "execution_count": null,
   "id": "025b7a36",
   "metadata": {},
   "outputs": [],
   "source": []
  }
 ],
 "metadata": {
  "kernelspec": {
   "display_name": "Python 3 (ipykernel)",
   "language": "python",
   "name": "python3"
  },
  "language_info": {
   "codemirror_mode": {
    "name": "ipython",
    "version": 3
   },
   "file_extension": ".py",
   "mimetype": "text/x-python",
   "name": "python",
   "nbconvert_exporter": "python",
   "pygments_lexer": "ipython3",
   "version": "3.10.9"
  }
 },
 "nbformat": 4,
 "nbformat_minor": 5
}
